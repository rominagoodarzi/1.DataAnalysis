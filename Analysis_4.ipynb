{
 "cells": [
  {
   "cell_type": "markdown",
   "metadata": {},
   "source": [
    "## Top 10 Countries by Crime and Safety Indexes, 2022\n",
    "\n",
    "##### By Romina Goodarzi\n",
    "\n",
    "### Import Packages and Data"
   ]
  },
  {
   "cell_type": "code",
   "execution_count": 1,
   "metadata": {
    "_cell_guid": "b1076dfc-b9ad-4769-8c92-a6c4dae69d19",
    "_uuid": "8f2839f25d086af736a60e9eeb907d3b93b6e0e5",
    "execution": {
     "iopub.execute_input": "2022-12-04T23:09:58.269382Z",
     "iopub.status.busy": "2022-12-04T23:09:58.268570Z",
     "iopub.status.idle": "2022-12-04T23:09:59.330364Z",
     "shell.execute_reply": "2022-12-04T23:09:59.329154Z",
     "shell.execute_reply.started": "2022-12-04T23:09:58.269286Z"
    }
   },
   "outputs": [],
   "source": [
    "### packages\n",
    "import numpy as np \n",
    "import pandas as pd \n",
    "import matplotlib.pyplot as plt\n",
    "import seaborn as sns"
   ]
  },
  {
   "cell_type": "code",
   "execution_count": 2,
   "metadata": {
    "execution": {
     "iopub.execute_input": "2022-12-04T23:09:59.332331Z",
     "iopub.status.busy": "2022-12-04T23:09:59.332009Z",
     "iopub.status.idle": "2022-12-04T23:09:59.371001Z",
     "shell.execute_reply": "2022-12-04T23:09:59.369682Z",
     "shell.execute_reply.started": "2022-12-04T23:09:59.332303Z"
    }
   },
   "outputs": [
    {
     "data": {
      "text/html": [
       "<div>\n",
       "<style scoped>\n",
       "    .dataframe tbody tr th:only-of-type {\n",
       "        vertical-align: middle;\n",
       "    }\n",
       "\n",
       "    .dataframe tbody tr th {\n",
       "        vertical-align: top;\n",
       "    }\n",
       "\n",
       "    .dataframe thead th {\n",
       "        text-align: right;\n",
       "    }\n",
       "</style>\n",
       "<table border=\"1\" class=\"dataframe\">\n",
       "  <thead>\n",
       "    <tr style=\"text-align: right;\">\n",
       "      <th></th>\n",
       "      <th>Rank</th>\n",
       "      <th>City</th>\n",
       "      <th>Crime Index</th>\n",
       "      <th>Safety Index</th>\n",
       "    </tr>\n",
       "  </thead>\n",
       "  <tbody>\n",
       "    <tr>\n",
       "      <th>0</th>\n",
       "      <td>1</td>\n",
       "      <td>Caracas, Venezuela</td>\n",
       "      <td>83.98</td>\n",
       "      <td>16.02</td>\n",
       "    </tr>\n",
       "    <tr>\n",
       "      <th>1</th>\n",
       "      <td>2</td>\n",
       "      <td>Pretoria, South Africa</td>\n",
       "      <td>81.98</td>\n",
       "      <td>18.02</td>\n",
       "    </tr>\n",
       "    <tr>\n",
       "      <th>2</th>\n",
       "      <td>3</td>\n",
       "      <td>Celaya, Mexico</td>\n",
       "      <td>81.80</td>\n",
       "      <td>18.20</td>\n",
       "    </tr>\n",
       "    <tr>\n",
       "      <th>3</th>\n",
       "      <td>4</td>\n",
       "      <td>San Pedro Sula, Honduras</td>\n",
       "      <td>80.87</td>\n",
       "      <td>19.13</td>\n",
       "    </tr>\n",
       "    <tr>\n",
       "      <th>4</th>\n",
       "      <td>5</td>\n",
       "      <td>Port Moresby, Papua New Guinea</td>\n",
       "      <td>80.71</td>\n",
       "      <td>19.29</td>\n",
       "    </tr>\n",
       "  </tbody>\n",
       "</table>\n",
       "</div>"
      ],
      "text/plain": [
       "   Rank                            City  Crime Index  Safety Index\n",
       "0     1              Caracas, Venezuela        83.98         16.02\n",
       "1     2          Pretoria, South Africa        81.98         18.02\n",
       "2     3                  Celaya, Mexico        81.80         18.20\n",
       "3     4        San Pedro Sula, Honduras        80.87         19.13\n",
       "4     5  Port Moresby, Papua New Guinea        80.71         19.29"
      ]
     },
     "execution_count": 2,
     "metadata": {},
     "output_type": "execute_result"
    }
   ],
   "source": [
    "### importing the data as crime\n",
    "crime = pd.read_csv('/kaggle/input/world-crime-index/World Crime Index .csv')\n",
    "### taking an initial look at the data (and making sure it uploaded properly)\n",
    "crime.head()"
   ]
  },
  {
   "cell_type": "markdown",
   "metadata": {},
   "source": [
    "The dataframe looks good. However, if we plan to take aggregations by the Country, we'll need to split City into City and Country."
   ]
  },
  {
   "cell_type": "markdown",
   "metadata": {},
   "source": [
    "### Clean Data and Create an Country-Based Dataframe"
   ]
  },
  {
   "cell_type": "code",
   "execution_count": 3,
   "metadata": {
    "execution": {
     "iopub.execute_input": "2022-12-04T23:09:59.372938Z",
     "iopub.status.busy": "2022-12-04T23:09:59.372546Z",
     "iopub.status.idle": "2022-12-04T23:09:59.391842Z",
     "shell.execute_reply": "2022-12-04T23:09:59.390413Z",
     "shell.execute_reply.started": "2022-12-04T23:09:59.372903Z"
    }
   },
   "outputs": [
    {
     "data": {
      "text/html": [
       "<div>\n",
       "<style scoped>\n",
       "    .dataframe tbody tr th:only-of-type {\n",
       "        vertical-align: middle;\n",
       "    }\n",
       "\n",
       "    .dataframe tbody tr th {\n",
       "        vertical-align: top;\n",
       "    }\n",
       "\n",
       "    .dataframe thead th {\n",
       "        text-align: right;\n",
       "    }\n",
       "</style>\n",
       "<table border=\"1\" class=\"dataframe\">\n",
       "  <thead>\n",
       "    <tr style=\"text-align: right;\">\n",
       "      <th></th>\n",
       "      <th>0</th>\n",
       "      <th>1</th>\n",
       "      <th>2</th>\n",
       "    </tr>\n",
       "  </thead>\n",
       "  <tbody>\n",
       "    <tr>\n",
       "      <th>0</th>\n",
       "      <td>Caracas</td>\n",
       "      <td>Venezuela</td>\n",
       "      <td>None</td>\n",
       "    </tr>\n",
       "    <tr>\n",
       "      <th>1</th>\n",
       "      <td>Pretoria</td>\n",
       "      <td>South Africa</td>\n",
       "      <td>None</td>\n",
       "    </tr>\n",
       "    <tr>\n",
       "      <th>2</th>\n",
       "      <td>Celaya</td>\n",
       "      <td>Mexico</td>\n",
       "      <td>None</td>\n",
       "    </tr>\n",
       "    <tr>\n",
       "      <th>3</th>\n",
       "      <td>San Pedro Sula</td>\n",
       "      <td>Honduras</td>\n",
       "      <td>None</td>\n",
       "    </tr>\n",
       "    <tr>\n",
       "      <th>4</th>\n",
       "      <td>Port Moresby</td>\n",
       "      <td>Papua New Guinea</td>\n",
       "      <td>None</td>\n",
       "    </tr>\n",
       "  </tbody>\n",
       "</table>\n",
       "</div>"
      ],
      "text/plain": [
       "                0                  1     2\n",
       "0         Caracas          Venezuela  None\n",
       "1        Pretoria       South Africa  None\n",
       "2          Celaya             Mexico  None\n",
       "3  San Pedro Sula           Honduras  None\n",
       "4    Port Moresby   Papua New Guinea  None"
      ]
     },
     "execution_count": 3,
     "metadata": {},
     "output_type": "execute_result"
    }
   ],
   "source": [
    "### seperate City and Country for later Country aggregations\n",
    "Country = crime['City']\n",
    "Country = Country.str.split(',', expand = True)\n",
    "### taking a look at the splits of City\n",
    "Country.head()\n"
   ]
  },
  {
   "cell_type": "markdown",
   "metadata": {},
   "source": [
    "Wait, why are there three columns? And why is the third appearing empty when .head() is called?"
   ]
  },
  {
   "cell_type": "code",
   "execution_count": 4,
   "metadata": {
    "execution": {
     "iopub.execute_input": "2022-12-04T23:09:59.397020Z",
     "iopub.status.busy": "2022-12-04T23:09:59.396667Z",
     "iopub.status.idle": "2022-12-04T23:09:59.408518Z",
     "shell.execute_reply": "2022-12-04T23:09:59.407379Z",
     "shell.execute_reply.started": "2022-12-04T23:09:59.396989Z"
    }
   },
   "outputs": [
    {
     "data": {
      "text/plain": [
       " United States    58\n",
       " Canada            3\n",
       "Name: 2, dtype: int64"
      ]
     },
     "execution_count": 4,
     "metadata": {},
     "output_type": "execute_result"
    }
   ],
   "source": [
    "Country[2].value_counts()"
   ]
  },
  {
   "cell_type": "markdown",
   "metadata": {},
   "source": [
    "Of course it's the US and Canada that have to make things difficult; their City column consists of \"City, State / Province, Country.\" This means that we need to do a little bit more work to seperate it all, using fillna to make sure that Country[2] contains all of the Country names."
   ]
  },
  {
   "cell_type": "code",
   "execution_count": 5,
   "metadata": {
    "execution": {
     "iopub.execute_input": "2022-12-04T23:09:59.410219Z",
     "iopub.status.busy": "2022-12-04T23:09:59.409757Z",
     "iopub.status.idle": "2022-12-04T23:09:59.425350Z",
     "shell.execute_reply": "2022-12-04T23:09:59.424059Z",
     "shell.execute_reply.started": "2022-12-04T23:09:59.410168Z"
    }
   },
   "outputs": [
    {
     "data": {
      "text/html": [
       "<div>\n",
       "<style scoped>\n",
       "    .dataframe tbody tr th:only-of-type {\n",
       "        vertical-align: middle;\n",
       "    }\n",
       "\n",
       "    .dataframe tbody tr th {\n",
       "        vertical-align: top;\n",
       "    }\n",
       "\n",
       "    .dataframe thead th {\n",
       "        text-align: right;\n",
       "    }\n",
       "</style>\n",
       "<table border=\"1\" class=\"dataframe\">\n",
       "  <thead>\n",
       "    <tr style=\"text-align: right;\">\n",
       "      <th></th>\n",
       "      <th>0</th>\n",
       "      <th>1</th>\n",
       "      <th>2</th>\n",
       "    </tr>\n",
       "  </thead>\n",
       "  <tbody>\n",
       "    <tr>\n",
       "      <th>0</th>\n",
       "      <td>Caracas</td>\n",
       "      <td>Venezuela</td>\n",
       "      <td>Venezuela</td>\n",
       "    </tr>\n",
       "    <tr>\n",
       "      <th>1</th>\n",
       "      <td>Pretoria</td>\n",
       "      <td>South Africa</td>\n",
       "      <td>South Africa</td>\n",
       "    </tr>\n",
       "    <tr>\n",
       "      <th>2</th>\n",
       "      <td>Celaya</td>\n",
       "      <td>Mexico</td>\n",
       "      <td>Mexico</td>\n",
       "    </tr>\n",
       "    <tr>\n",
       "      <th>3</th>\n",
       "      <td>San Pedro Sula</td>\n",
       "      <td>Honduras</td>\n",
       "      <td>Honduras</td>\n",
       "    </tr>\n",
       "    <tr>\n",
       "      <th>4</th>\n",
       "      <td>Port Moresby</td>\n",
       "      <td>Papua New Guinea</td>\n",
       "      <td>Papua New Guinea</td>\n",
       "    </tr>\n",
       "  </tbody>\n",
       "</table>\n",
       "</div>"
      ],
      "text/plain": [
       "                0                  1                  2\n",
       "0         Caracas          Venezuela          Venezuela\n",
       "1        Pretoria       South Africa       South Africa\n",
       "2          Celaya             Mexico             Mexico\n",
       "3  San Pedro Sula           Honduras           Honduras\n",
       "4    Port Moresby   Papua New Guinea   Papua New Guinea"
      ]
     },
     "execution_count": 5,
     "metadata": {},
     "output_type": "execute_result"
    }
   ],
   "source": [
    "### fill all of the 'none' values in Country[2] with their values from Country[1]\n",
    "Country[2] = Country[2].fillna(Country[1])\n",
    "Country.head()"
   ]
  },
  {
   "cell_type": "markdown",
   "metadata": {},
   "source": [
    "Now, to minimize and reorganize columns..."
   ]
  },
  {
   "cell_type": "code",
   "execution_count": 6,
   "metadata": {
    "execution": {
     "iopub.execute_input": "2022-12-04T23:09:59.427421Z",
     "iopub.status.busy": "2022-12-04T23:09:59.426893Z",
     "iopub.status.idle": "2022-12-04T23:09:59.455943Z",
     "shell.execute_reply": "2022-12-04T23:09:59.454564Z",
     "shell.execute_reply.started": "2022-12-04T23:09:59.427277Z"
    }
   },
   "outputs": [
    {
     "data": {
      "text/html": [
       "<div>\n",
       "<style scoped>\n",
       "    .dataframe tbody tr th:only-of-type {\n",
       "        vertical-align: middle;\n",
       "    }\n",
       "\n",
       "    .dataframe tbody tr th {\n",
       "        vertical-align: top;\n",
       "    }\n",
       "\n",
       "    .dataframe thead th {\n",
       "        text-align: right;\n",
       "    }\n",
       "</style>\n",
       "<table border=\"1\" class=\"dataframe\">\n",
       "  <thead>\n",
       "    <tr style=\"text-align: right;\">\n",
       "      <th></th>\n",
       "      <th>Rank</th>\n",
       "      <th>City</th>\n",
       "      <th>Country</th>\n",
       "      <th>Crime Index</th>\n",
       "      <th>Safety Index</th>\n",
       "    </tr>\n",
       "  </thead>\n",
       "  <tbody>\n",
       "    <tr>\n",
       "      <th>0</th>\n",
       "      <td>1</td>\n",
       "      <td>Caracas</td>\n",
       "      <td>Venezuela</td>\n",
       "      <td>83.98</td>\n",
       "      <td>16.02</td>\n",
       "    </tr>\n",
       "    <tr>\n",
       "      <th>1</th>\n",
       "      <td>2</td>\n",
       "      <td>Pretoria</td>\n",
       "      <td>South Africa</td>\n",
       "      <td>81.98</td>\n",
       "      <td>18.02</td>\n",
       "    </tr>\n",
       "    <tr>\n",
       "      <th>2</th>\n",
       "      <td>3</td>\n",
       "      <td>Celaya</td>\n",
       "      <td>Mexico</td>\n",
       "      <td>81.80</td>\n",
       "      <td>18.20</td>\n",
       "    </tr>\n",
       "    <tr>\n",
       "      <th>3</th>\n",
       "      <td>4</td>\n",
       "      <td>San Pedro Sula</td>\n",
       "      <td>Honduras</td>\n",
       "      <td>80.87</td>\n",
       "      <td>19.13</td>\n",
       "    </tr>\n",
       "    <tr>\n",
       "      <th>4</th>\n",
       "      <td>5</td>\n",
       "      <td>Port Moresby</td>\n",
       "      <td>Papua New Guinea</td>\n",
       "      <td>80.71</td>\n",
       "      <td>19.29</td>\n",
       "    </tr>\n",
       "  </tbody>\n",
       "</table>\n",
       "</div>"
      ],
      "text/plain": [
       "   Rank            City            Country  Crime Index  Safety Index\n",
       "0     1         Caracas          Venezuela        83.98         16.02\n",
       "1     2        Pretoria       South Africa        81.98         18.02\n",
       "2     3          Celaya             Mexico        81.80         18.20\n",
       "3     4  San Pedro Sula           Honduras        80.87         19.13\n",
       "4     5    Port Moresby   Papua New Guinea        80.71         19.29"
      ]
     },
     "execution_count": 6,
     "metadata": {},
     "output_type": "execute_result"
    }
   ],
   "source": [
    "### ensure \"City\" only contains the city, and make \"Country\" to contain the country\n",
    "crime['City'] = Country[0]\n",
    "crime['Country'] = Country[2]\n",
    "### reorganize them in a better way\n",
    "crime = crime[['Rank', 'City', 'Country', 'Crime Index', 'Safety Index']]\n",
    "### ensure it looks right\n",
    "crime.head()"
   ]
  },
  {
   "cell_type": "markdown",
   "metadata": {},
   "source": [
    "Now our data is workable. For simplicity sake, we're going to make a new dataframe in which all records of a country are merged, giving us the average crime and safety index for that country. We'll call this new dataframe \"countryindex\"."
   ]
  },
  {
   "cell_type": "code",
   "execution_count": 7,
   "metadata": {
    "execution": {
     "iopub.execute_input": "2022-12-04T23:09:59.458407Z",
     "iopub.status.busy": "2022-12-04T23:09:59.457930Z",
     "iopub.status.idle": "2022-12-04T23:09:59.483744Z",
     "shell.execute_reply": "2022-12-04T23:09:59.482239Z",
     "shell.execute_reply.started": "2022-12-04T23:09:59.458355Z"
    }
   },
   "outputs": [
    {
     "name": "stdout",
     "output_type": "stream",
     "text": [
      "Number of Countries:  118\n"
     ]
    },
    {
     "data": {
      "text/html": [
       "<div>\n",
       "<style scoped>\n",
       "    .dataframe tbody tr th:only-of-type {\n",
       "        vertical-align: middle;\n",
       "    }\n",
       "\n",
       "    .dataframe tbody tr th {\n",
       "        vertical-align: top;\n",
       "    }\n",
       "\n",
       "    .dataframe thead th {\n",
       "        text-align: right;\n",
       "    }\n",
       "</style>\n",
       "<table border=\"1\" class=\"dataframe\">\n",
       "  <thead>\n",
       "    <tr style=\"text-align: right;\">\n",
       "      <th></th>\n",
       "      <th>Crime Index</th>\n",
       "      <th>Safety Index</th>\n",
       "    </tr>\n",
       "    <tr>\n",
       "      <th>Country</th>\n",
       "      <th></th>\n",
       "      <th></th>\n",
       "    </tr>\n",
       "  </thead>\n",
       "  <tbody>\n",
       "    <tr>\n",
       "      <th>Afghanistan</th>\n",
       "      <td>79.390000</td>\n",
       "      <td>20.610000</td>\n",
       "    </tr>\n",
       "    <tr>\n",
       "      <th>Albania</th>\n",
       "      <td>44.500000</td>\n",
       "      <td>55.500000</td>\n",
       "    </tr>\n",
       "    <tr>\n",
       "      <th>Algeria</th>\n",
       "      <td>53.880000</td>\n",
       "      <td>46.120000</td>\n",
       "    </tr>\n",
       "    <tr>\n",
       "      <th>Angola</th>\n",
       "      <td>67.450000</td>\n",
       "      <td>32.550000</td>\n",
       "    </tr>\n",
       "    <tr>\n",
       "      <th>Argentina</th>\n",
       "      <td>66.273333</td>\n",
       "      <td>33.726667</td>\n",
       "    </tr>\n",
       "  </tbody>\n",
       "</table>\n",
       "</div>"
      ],
      "text/plain": [
       "              Crime Index  Safety Index\n",
       "Country                                \n",
       " Afghanistan    79.390000     20.610000\n",
       " Albania        44.500000     55.500000\n",
       " Algeria        53.880000     46.120000\n",
       " Angola         67.450000     32.550000\n",
       " Argentina      66.273333     33.726667"
      ]
     },
     "execution_count": 7,
     "metadata": {},
     "output_type": "execute_result"
    }
   ],
   "source": [
    "### select the country (and use it as the index), crime index, and safety index\n",
    "countryindex = crime[['Country','Crime Index','Safety Index']]\n",
    "countryindex = countryindex.groupby('Country').mean()\n",
    "### show how many countries are in the set, and check .head() to ensure it looks right\n",
    "print(\"Number of Countries: \", countryindex.shape[0])\n",
    "countryindex.head()\n"
   ]
  },
  {
   "cell_type": "markdown",
   "metadata": {},
   "source": [
    "And with that, it's time to start visualizing the Crime and Safety index scores of the 118 countries in the data. It is worth noting that Crime Index (CI) and Safety Index are exact opposites; that is, CI = 1 - SI and SI = 1 - CI; it may be redundant to have both, but it allows us to make charts based on either crime or safety (depending if you feel optimistic or pessimistic, or if someone decides to put a spin on how it is presented). "
   ]
  },
  {
   "cell_type": "markdown",
   "metadata": {},
   "source": [
    "### Visualizations"
   ]
  },
  {
   "cell_type": "markdown",
   "metadata": {},
   "source": [
    "First, we'll divide the data into 2 top 10 tables, one for countries with the highest Crime Index, and one for countries with the highest Safety Index."
   ]
  },
  {
   "cell_type": "code",
   "execution_count": 17,
   "metadata": {
    "execution": {
     "iopub.execute_input": "2022-12-04T23:15:40.682366Z",
     "iopub.status.busy": "2022-12-04T23:15:40.681918Z",
     "iopub.status.idle": "2022-12-04T23:15:40.689747Z",
     "shell.execute_reply": "2022-12-04T23:15:40.688761Z",
     "shell.execute_reply.started": "2022-12-04T23:15:40.682330Z"
    }
   },
   "outputs": [],
   "source": [
    "### create a dataframe of the top 10 countries with the highest crime index \n",
    "top10crime = countryindex.sort_values(by = ['Crime Index'], ascending = False)\n",
    "top10crime = top10crime.head(10)\n",
    "### create a dataframe of the top 10 countries with the highest safety index\n",
    "top10safe = countryindex.sort_values(by = ['Safety Index'], ascending = False)\n",
    "top10safe = top10safe.head(10)"
   ]
  },
  {
   "cell_type": "markdown",
   "metadata": {},
   "source": [
    "Now, let's visualize each..."
   ]
  },
  {
   "cell_type": "code",
   "execution_count": 19,
   "metadata": {
    "execution": {
     "iopub.execute_input": "2022-12-04T23:16:02.059239Z",
     "iopub.status.busy": "2022-12-04T23:16:02.058816Z",
     "iopub.status.idle": "2022-12-04T23:16:02.293880Z",
     "shell.execute_reply": "2022-12-04T23:16:02.292558Z",
     "shell.execute_reply.started": "2022-12-04T23:16:02.059205Z"
    }
   },
   "outputs": [
    {
     "data": {
      "image/png": "[encoded data removed]",
      "text/plain": [
       "<Figure size 432x288 with 1 Axes>"
      ]
     },
     "metadata": {
      "needs_background": "light"
     },
     "output_type": "display_data"
    }
   ],
   "source": [
    "### top 10 highest crime index countries\n",
    "plt.bar(top10crime.index, top10crime['Crime Index'])\n",
    "### rotate x-axis names by 90 degrees\n",
    "plt.xticks(rotation=90)\n",
    "### remove the right axis and upper axis, for a cleaner look\n",
    "sns.despine(top=True, right=True, left=False, bottom=False)\n",
    "### show the plot\n",
    "plt.show()"
   ]
  },
  {
   "cell_type": "markdown",
   "metadata": {},
   "source": [
    "6 of the top 10 countries with the highest crime rates are in the Americas (Central America, South America, or the Caribbean), two of the countries are in Africa, one in the Middle East, and one in Maritime Southeast Asia. "
   ]
  },
  {
   "cell_type": "code",
   "execution_count": 20,
   "metadata": {
    "execution": {
     "iopub.execute_input": "2022-12-04T23:18:58.690918Z",
     "iopub.status.busy": "2022-12-04T23:18:58.690482Z",
     "iopub.status.idle": "2022-12-04T23:18:58.909574Z",
     "shell.execute_reply": "2022-12-04T23:18:58.908059Z",
     "shell.execute_reply.started": "2022-12-04T23:18:58.690872Z"
    }
   },
   "outputs": [
    {
     "data": {
      "image/png": "[encoded data removed]",
      "text/plain": [
       "<Figure size 432x288 with 1 Axes>"
      ]
     },
     "metadata": {
      "needs_background": "light"
     },
     "output_type": "display_data"
    }
   ],
   "source": [
    "### top 10 highest safety index countries\n",
    "plt.bar(top10safe.index, top10safe['Safety Index'])\n",
    "### rotate country names by 90 degrees on the bottom axis\n",
    "plt.xticks(rotation=90)\n",
    "### remove the right and upper axis lines to clean the plot up\n",
    "sns.despine(top=True, right=True, left=False, bottom=False)\n",
    "### show the plot\n",
    "plt.show()"
   ]
  },
  {
   "cell_type": "markdown",
   "metadata": {},
   "source": [
    "4 of the 10 safest countries are in the Middle East, 4 are in Europe / Eurasia, and two are in East Asia."
   ]
  },
  {
   "cell_type": "markdown",
   "metadata": {},
   "source": [
    "#### Conclusion\n",
    "\n",
    "I am skeptical with the list because of possible extremes, in the sense that some of the safest or unsafest countries may only have one data point. With only one observation, there may be much more that is not being captured by the summary, or the sample of data per country is too small to offer a really good overview.\n",
    "\n",
    "I hope you enjoyed this quick EDA, and that the code to extract the countries is helpful. Please feel free to reach out with any questions, comments, or feedback!"
   ]
  }
 ],
 "metadata": {
  "kernelspec": {
   "display_name": "Python 3 (ipykernel)",
   "language": "python",
   "name": "python3"
  },
  "language_info": {
   "codemirror_mode": {
    "name": "ipython",
    "version": 3
   },
   "file_extension": ".py",
   "mimetype": "text/x-python",
   "name": "python",
   "nbconvert_exporter": "python",
   "pygments_lexer": "ipython3",
   "version": "3.11.3"
  }
 },
 "nbformat": 4,
 "nbformat_minor": 4
}

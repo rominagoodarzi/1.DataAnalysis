{
 "cells": [
  {
   "cell_type": "markdown",
   "id": "removable-winner",
   "metadata": {
    "papermill": {
     "duration": 0.028348,
     "end_time": "2021-04-19T03:55:23.442379",
     "exception": false,
     "start_time": "2021-04-19T03:55:23.414031",
     "status": "completed"
    },
    "tags": []
   },
   "source": [
    "# **US State Spending on Children, 1997 - 2016**"
   ]
  },
  {
   "cell_type": "markdown",
   "id": "electric-evolution",
   "metadata": {
    "papermill": {
     "duration": 0.026567,
     "end_time": "2021-04-19T03:55:23.495982",
     "exception": false,
     "start_time": "2021-04-19T03:55:23.469415",
     "status": "completed"
    },
    "tags": []
   },
   "source": [
    "![](https://i2.wp.com/image.cnbcfm.com/api/v1/image/106617655-15948341572020-07-14t220401z_83109012_rc2ath9u0z34_rtrmadp_0_health-coronavirus-usa-schools.jpeg?ssl=1)\n",
    "Image via Google"
   ]
  },
  {
   "cell_type": "markdown",
   "id": "tired-physiology",
   "metadata": {
    "papermill": {
     "duration": 0.027923,
     "end_time": "2021-04-19T03:55:23.550771",
     "exception": false,
     "start_time": "2021-04-19T03:55:23.522848",
     "status": "completed"
    },
    "tags": []
   },
   "source": [
    "*By Romina Goodarzi*"
   ]
  },
  {
   "cell_type": "markdown",
   "id": "greek-thought",
   "metadata": {
    "papermill": {
     "duration": 0.027388,
     "end_time": "2021-04-19T03:55:23.604997",
     "exception": false,
     "start_time": "2021-04-19T03:55:23.577609",
     "status": "completed"
    },
    "tags": []
   },
   "source": [
    "### **Table of Contents**"
   ]
  },
  {
   "cell_type": "markdown",
   "id": "demonstrated-holiday",
   "metadata": {
    "papermill": {
     "duration": 0.026604,
     "end_time": "2021-04-19T03:55:23.658594",
     "exception": false,
     "start_time": "2021-04-19T03:55:23.631990",
     "status": "completed"
    },
    "tags": []
   },
   "source": [
    "**1. Importing Libraries and Data**\n",
    "\n",
    "    1.1 - Import necessary libraries for analysis and relevant data set. \n",
    "    1.2 - Verify integrity of data and clean as needed.\n",
    "    \n",
    "**2. Data Analysis**\n",
    "    \n",
    "    2.1 - Average Spending by State\n",
    "    2.2 - Average State Spending by Year\n",
    "    2.3 - Total Spending by Year\n",
    "    2.4 - Top 5 States by Spending\n",
    "    2.5 - Bottom 5 States by Spending\n",
    "    2.6 - Top 3 States vs Bottom 3 States\n",
    "    \n",
    "**3. Conclusions**\n",
    "    \n",
    "    3.1 - Conclusions from Data\n",
    "    3.2 - Further Improvements / Data"
   ]
  },
  {
   "cell_type": "markdown",
   "id": "bulgarian-election",
   "metadata": {
    "papermill": {
     "duration": 0.026511,
     "end_time": "2021-04-19T03:55:23.712006",
     "exception": false,
     "start_time": "2021-04-19T03:55:23.685495",
     "status": "completed"
    },
    "tags": []
   },
   "source": [
    "### **1. Libraries and Data**"
   ]
  },
  {
   "cell_type": "markdown",
   "id": "coastal-contribution",
   "metadata": {
    "papermill": {
     "duration": 0.026344,
     "end_time": "2021-04-19T03:55:23.765243",
     "exception": false,
     "start_time": "2021-04-19T03:55:23.738899",
     "status": "completed"
    },
    "tags": []
   },
   "source": [
    "### 1.1 - Libraries and Data Set"
   ]
  },
  {
   "cell_type": "code",
   "execution_count": 1,
   "id": "excited-status",
   "metadata": {
    "execution": {
     "iopub.execute_input": "2021-04-19T03:55:23.823979Z",
     "iopub.status.busy": "2021-04-19T03:55:23.822802Z",
     "iopub.status.idle": "2021-04-19T03:55:24.771181Z",
     "shell.execute_reply": "2021-04-19T03:55:24.770043Z"
    },
    "papermill": {
     "duration": 0.979306,
     "end_time": "2021-04-19T03:55:24.771364",
     "exception": false,
     "start_time": "2021-04-19T03:55:23.792058",
     "status": "completed"
    },
    "tags": []
   },
   "outputs": [],
   "source": [
    "import pandas as pd\n",
    "import numpy as np\n",
    "import matplotlib.pyplot as plt\n",
    "import seaborn as sns"
   ]
  },
  {
   "cell_type": "code",
   "execution_count": 2,
   "id": "statewide-display",
   "metadata": {
    "execution": {
     "iopub.execute_input": "2021-04-19T03:55:24.830577Z",
     "iopub.status.busy": "2021-04-19T03:55:24.829950Z",
     "iopub.status.idle": "2021-04-19T03:55:24.903489Z",
     "shell.execute_reply": "2021-04-19T03:55:24.902926Z"
    },
    "papermill": {
     "duration": 0.104966,
     "end_time": "2021-04-19T03:55:24.903632",
     "exception": false,
     "start_time": "2021-04-19T03:55:24.798666",
     "status": "completed"
    },
    "tags": []
   },
   "outputs": [
    {
     "data": {
      "text/html": [
       "<div>\n",
       "<style scoped>\n",
       "    .dataframe tbody tr th:only-of-type {\n",
       "        vertical-align: middle;\n",
       "    }\n",
       "\n",
       "    .dataframe tbody tr th {\n",
       "        vertical-align: top;\n",
       "    }\n",
       "\n",
       "    .dataframe thead th {\n",
       "        text-align: right;\n",
       "    }\n",
       "</style>\n",
       "<table border=\"1\" class=\"dataframe\">\n",
       "  <thead>\n",
       "    <tr style=\"text-align: right;\">\n",
       "      <th></th>\n",
       "      <th>state</th>\n",
       "      <th>1997</th>\n",
       "      <th>1998</th>\n",
       "      <th>1999</th>\n",
       "      <th>2000</th>\n",
       "      <th>2001</th>\n",
       "      <th>2002</th>\n",
       "      <th>2003</th>\n",
       "      <th>2004</th>\n",
       "      <th>2005</th>\n",
       "      <th>...</th>\n",
       "      <th>2007</th>\n",
       "      <th>2008</th>\n",
       "      <th>2009</th>\n",
       "      <th>2010</th>\n",
       "      <th>2011</th>\n",
       "      <th>2012</th>\n",
       "      <th>2013</th>\n",
       "      <th>2014</th>\n",
       "      <th>2015</th>\n",
       "      <th>2016</th>\n",
       "    </tr>\n",
       "  </thead>\n",
       "  <tbody>\n",
       "    <tr>\n",
       "      <th>0</th>\n",
       "      <td>Alabama</td>\n",
       "      <td>3271969.0</td>\n",
       "      <td>3504764</td>\n",
       "      <td>3784422</td>\n",
       "      <td>4006894</td>\n",
       "      <td>4140053</td>\n",
       "      <td>4273211</td>\n",
       "      <td>4429789</td>\n",
       "      <td>4586366</td>\n",
       "      <td>4925201</td>\n",
       "      <td>...</td>\n",
       "      <td>6104470</td>\n",
       "      <td>6671430</td>\n",
       "      <td>6629154</td>\n",
       "      <td>6573857</td>\n",
       "      <td>6592386</td>\n",
       "      <td>6305709</td>\n",
       "      <td>6461916</td>\n",
       "      <td>6600333</td>\n",
       "      <td>6645129</td>\n",
       "      <td>6589890</td>\n",
       "    </tr>\n",
       "    <tr>\n",
       "      <th>1</th>\n",
       "      <td>Alaska</td>\n",
       "      <td>1042311.0</td>\n",
       "      <td>1019614</td>\n",
       "      <td>1097282</td>\n",
       "      <td>1133145</td>\n",
       "      <td>1188461</td>\n",
       "      <td>1243776</td>\n",
       "      <td>1287792</td>\n",
       "      <td>1331808</td>\n",
       "      <td>1416771</td>\n",
       "      <td>...</td>\n",
       "      <td>1609832</td>\n",
       "      <td>1897947</td>\n",
       "      <td>2077152</td>\n",
       "      <td>2157418</td>\n",
       "      <td>2196942</td>\n",
       "      <td>2105122</td>\n",
       "      <td>2202551</td>\n",
       "      <td>2202685</td>\n",
       "      <td>2332630</td>\n",
       "      <td>2074993</td>\n",
       "    </tr>\n",
       "    <tr>\n",
       "      <th>2</th>\n",
       "      <td>Arizona</td>\n",
       "      <td>3388165.0</td>\n",
       "      <td>3579363</td>\n",
       "      <td>3849420</td>\n",
       "      <td>4185930</td>\n",
       "      <td>4427481</td>\n",
       "      <td>4669031</td>\n",
       "      <td>5087548</td>\n",
       "      <td>5506064</td>\n",
       "      <td>5872686</td>\n",
       "      <td>...</td>\n",
       "      <td>6826134</td>\n",
       "      <td>7367909</td>\n",
       "      <td>7536710</td>\n",
       "      <td>7388074</td>\n",
       "      <td>7096432</td>\n",
       "      <td>6966512</td>\n",
       "      <td>6675200</td>\n",
       "      <td>7065613</td>\n",
       "      <td>7026131</td>\n",
       "      <td>7137123</td>\n",
       "    </tr>\n",
       "    <tr>\n",
       "      <th>3</th>\n",
       "      <td>Arkansas</td>\n",
       "      <td>1960613.0</td>\n",
       "      <td>2127517</td>\n",
       "      <td>2224967</td>\n",
       "      <td>2324123</td>\n",
       "      <td>2451202</td>\n",
       "      <td>2578281</td>\n",
       "      <td>2742678</td>\n",
       "      <td>2907074</td>\n",
       "      <td>3300288</td>\n",
       "      <td>...</td>\n",
       "      <td>3719097</td>\n",
       "      <td>3846131</td>\n",
       "      <td>4189066</td>\n",
       "      <td>4480204</td>\n",
       "      <td>4609186</td>\n",
       "      <td>4220947</td>\n",
       "      <td>4222408</td>\n",
       "      <td>4299286</td>\n",
       "      <td>4355246</td>\n",
       "      <td>4411761</td>\n",
       "    </tr>\n",
       "    <tr>\n",
       "      <th>4</th>\n",
       "      <td>California</td>\n",
       "      <td>28708364.0</td>\n",
       "      <td>31776920</td>\n",
       "      <td>33739312</td>\n",
       "      <td>36658880</td>\n",
       "      <td>41025508</td>\n",
       "      <td>45392132</td>\n",
       "      <td>47133896</td>\n",
       "      <td>48875660</td>\n",
       "      <td>50693044</td>\n",
       "      <td>...</td>\n",
       "      <td>57258252</td>\n",
       "      <td>60096496</td>\n",
       "      <td>59255344</td>\n",
       "      <td>57105136</td>\n",
       "      <td>55999628</td>\n",
       "      <td>57048604</td>\n",
       "      <td>57043384</td>\n",
       "      <td>59043948</td>\n",
       "      <td>64553292</td>\n",
       "      <td>68892072</td>\n",
       "    </tr>\n",
       "  </tbody>\n",
       "</table>\n",
       "<p>5 rows × 21 columns</p>\n",
       "</div>"
      ],
      "text/plain": [
       "        state        1997      1998      1999      2000      2001      2002  \\\n",
       "0     Alabama   3271969.0   3504764   3784422   4006894   4140053   4273211   \n",
       "1      Alaska   1042311.0   1019614   1097282   1133145   1188461   1243776   \n",
       "2     Arizona   3388165.0   3579363   3849420   4185930   4427481   4669031   \n",
       "3    Arkansas   1960613.0   2127517   2224967   2324123   2451202   2578281   \n",
       "4  California  28708364.0  31776920  33739312  36658880  41025508  45392132   \n",
       "\n",
       "       2003      2004      2005  ...      2007      2008      2009      2010  \\\n",
       "0   4429789   4586366   4925201  ...   6104470   6671430   6629154   6573857   \n",
       "1   1287792   1331808   1416771  ...   1609832   1897947   2077152   2157418   \n",
       "2   5087548   5506064   5872686  ...   6826134   7367909   7536710   7388074   \n",
       "3   2742678   2907074   3300288  ...   3719097   3846131   4189066   4480204   \n",
       "4  47133896  48875660  50693044  ...  57258252  60096496  59255344  57105136   \n",
       "\n",
       "       2011      2012      2013      2014      2015      2016  \n",
       "0   6592386   6305709   6461916   6600333   6645129   6589890  \n",
       "1   2196942   2105122   2202551   2202685   2332630   2074993  \n",
       "2   7096432   6966512   6675200   7065613   7026131   7137123  \n",
       "3   4609186   4220947   4222408   4299286   4355246   4411761  \n",
       "4  55999628  57048604  57043384  59043948  64553292  68892072  \n",
       "\n",
       "[5 rows x 21 columns]"
      ]
     },
     "execution_count": 2,
     "metadata": {},
     "output_type": "execute_result"
    }
   ],
   "source": [
    "sss = pd.read_csv('../input/state-by-state-spending-on-kids/State-by-State Spending on Kids.csv')\n",
    "sss.head()"
   ]
  },
  {
   "cell_type": "markdown",
   "id": "resistant-involvement",
   "metadata": {
    "papermill": {
     "duration": 0.029316,
     "end_time": "2021-04-19T03:55:24.961103",
     "exception": false,
     "start_time": "2021-04-19T03:55:24.931787",
     "status": "completed"
    },
    "tags": []
   },
   "source": [
    "### 1.2 - Data Integrity and Cleaning"
   ]
  },
  {
   "cell_type": "code",
   "execution_count": 3,
   "id": "mighty-adolescent",
   "metadata": {
    "execution": {
     "iopub.execute_input": "2021-04-19T03:55:25.020302Z",
     "iopub.status.busy": "2021-04-19T03:55:25.019609Z",
     "iopub.status.idle": "2021-04-19T03:55:25.024445Z",
     "shell.execute_reply": "2021-04-19T03:55:25.024996Z"
    },
    "papermill": {
     "duration": 0.036077,
     "end_time": "2021-04-19T03:55:25.025181",
     "exception": false,
     "start_time": "2021-04-19T03:55:24.989104",
     "status": "completed"
    },
    "tags": []
   },
   "outputs": [
    {
     "data": {
      "text/plain": [
       "(3587, 21)"
      ]
     },
     "execution_count": 3,
     "metadata": {},
     "output_type": "execute_result"
    }
   ],
   "source": [
    "sss.shape"
   ]
  },
  {
   "cell_type": "markdown",
   "id": "distinguished-swaziland",
   "metadata": {
    "papermill": {
     "duration": 0.027781,
     "end_time": "2021-04-19T03:55:25.081287",
     "exception": false,
     "start_time": "2021-04-19T03:55:25.053506",
     "status": "completed"
    },
    "tags": []
   },
   "source": [
    "3,587 rows exist in this data set, which is a pretty significant error - there are only 50 States, plus Washington D.C. (District of Columbia). "
   ]
  },
  {
   "cell_type": "code",
   "execution_count": 4,
   "id": "effective-health",
   "metadata": {
    "execution": {
     "iopub.execute_input": "2021-04-19T03:55:25.149932Z",
     "iopub.status.busy": "2021-04-19T03:55:25.149158Z",
     "iopub.status.idle": "2021-04-19T03:55:25.153539Z",
     "shell.execute_reply": "2021-04-19T03:55:25.152888Z"
    },
    "papermill": {
     "duration": 0.04342,
     "end_time": "2021-04-19T03:55:25.153701",
     "exception": false,
     "start_time": "2021-04-19T03:55:25.110281",
     "status": "completed"
    },
    "tags": []
   },
   "outputs": [
    {
     "data": {
      "text/plain": [
       "Maryland                69\n",
       "Washington              69\n",
       "Montana                 69\n",
       "Delaware                69\n",
       "Minnesota               69\n",
       "Connecticut             69\n",
       "Maine                   69\n",
       "Indiana                 69\n",
       "Oregon                  69\n",
       "Arizona                 69\n",
       "Alaska                  69\n",
       "Wisconsin               69\n",
       "New York                69\n",
       "Florida                 69\n",
       "Louisiana               69\n",
       "Ohio                    69\n",
       "Nevada                  69\n",
       "Tennessee               69\n",
       "Missouri                69\n",
       "Illinois                69\n",
       "North Carolina          69\n",
       "Pennsylvania            69\n",
       "Texas                   69\n",
       "Georgia                 69\n",
       "Arkansas                69\n",
       "Alabama                 69\n",
       "South Carolina          69\n",
       "Idaho                   69\n",
       "Wyoming                 69\n",
       "South Dakota            69\n",
       "Kansas                  69\n",
       "New Hampshire           69\n",
       "Hawaii                  69\n",
       "Rhode Island            69\n",
       "West Virginia           69\n",
       "Michigan                69\n",
       "New Mexico              69\n",
       "Vermont                 69\n",
       "Oklahoma                69\n",
       "New Jersey              69\n",
       "North Dakota            69\n",
       "California              69\n",
       "Colorado                69\n",
       "Virginia                69\n",
       "District of Columbia    69\n",
       "Mississippi             69\n",
       "Iowa                    69\n",
       "Kentucky                69\n",
       "Utah                    69\n",
       "Massachusetts           69\n",
       "Nebraska                69\n",
       "state                   68\n",
       "Name: state, dtype: int64"
      ]
     },
     "execution_count": 4,
     "metadata": {},
     "output_type": "execute_result"
    }
   ],
   "source": [
    "sss.state.value_counts()"
   ]
  },
  {
   "cell_type": "markdown",
   "id": "sublime-simple",
   "metadata": {
    "papermill": {
     "duration": 0.02852,
     "end_time": "2021-04-19T03:55:25.213273",
     "exception": false,
     "start_time": "2021-04-19T03:55:25.184753",
     "status": "completed"
    },
    "tags": []
   },
   "source": [
    "The data set has been repeated 69 times; we need to extract just one set of 51 States. "
   ]
  },
  {
   "cell_type": "code",
   "execution_count": 5,
   "id": "native-mounting",
   "metadata": {
    "execution": {
     "iopub.execute_input": "2021-04-19T03:55:25.279926Z",
     "iopub.status.busy": "2021-04-19T03:55:25.279143Z",
     "iopub.status.idle": "2021-04-19T03:55:25.284062Z",
     "shell.execute_reply": "2021-04-19T03:55:25.283380Z"
    },
    "papermill": {
     "duration": 0.041745,
     "end_time": "2021-04-19T03:55:25.284220",
     "exception": false,
     "start_time": "2021-04-19T03:55:25.242475",
     "status": "completed"
    },
    "tags": []
   },
   "outputs": [
    {
     "data": {
      "text/plain": [
       "Maryland                1\n",
       "Michigan                1\n",
       "Wisconsin               1\n",
       "Georgia                 1\n",
       "Kansas                  1\n",
       "New Hampshire           1\n",
       "Hawaii                  1\n",
       "Rhode Island            1\n",
       "Utah                    1\n",
       "Alabama                 1\n",
       "Massachusetts           1\n",
       "West Virginia           1\n",
       "South Carolina          1\n",
       "Texas                   1\n",
       "Washington              1\n",
       "North Dakota            1\n",
       "New Mexico              1\n",
       "Florida                 1\n",
       "Louisiana               1\n",
       "Vermont                 1\n",
       "Ohio                    1\n",
       "Nebraska                1\n",
       "Nevada                  1\n",
       "Kentucky                1\n",
       "South Dakota            1\n",
       "Iowa                    1\n",
       "Arkansas                1\n",
       "Connecticut             1\n",
       "Montana                 1\n",
       "Delaware                1\n",
       "Tennessee               1\n",
       "California              1\n",
       "Missouri                1\n",
       "Colorado                1\n",
       "Minnesota               1\n",
       "Illinois                1\n",
       "Virginia                1\n",
       "Wyoming                 1\n",
       "Maine                   1\n",
       "Alaska                  1\n",
       "Idaho                   1\n",
       "Indiana                 1\n",
       "North Carolina          1\n",
       "Oregon                  1\n",
       "Oklahoma                1\n",
       "New York                1\n",
       "Pennsylvania            1\n",
       "District of Columbia    1\n",
       "Mississippi             1\n",
       "Arizona                 1\n",
       "New Jersey              1\n",
       "Name: state, dtype: int64"
      ]
     },
     "execution_count": 5,
     "metadata": {},
     "output_type": "execute_result"
    }
   ],
   "source": [
    "sss = sss.head(51)\n",
    "sss.state.value_counts()"
   ]
  },
  {
   "cell_type": "code",
   "execution_count": 6,
   "id": "immune-perspective",
   "metadata": {
    "execution": {
     "iopub.execute_input": "2021-04-19T03:55:25.353645Z",
     "iopub.status.busy": "2021-04-19T03:55:25.352724Z",
     "iopub.status.idle": "2021-04-19T03:55:25.357028Z",
     "shell.execute_reply": "2021-04-19T03:55:25.357489Z"
    },
    "papermill": {
     "duration": 0.042732,
     "end_time": "2021-04-19T03:55:25.357674",
     "exception": false,
     "start_time": "2021-04-19T03:55:25.314942",
     "status": "completed"
    },
    "tags": []
   },
   "outputs": [
    {
     "data": {
      "text/plain": [
       "state    0\n",
       "1997     0\n",
       "1998     0\n",
       "1999     0\n",
       "2000     0\n",
       "2001     0\n",
       "2002     0\n",
       "2003     0\n",
       "2004     0\n",
       "2005     0\n",
       "2006     0\n",
       "2007     0\n",
       "2008     0\n",
       "2009     0\n",
       "2010     0\n",
       "2011     0\n",
       "2012     0\n",
       "2013     0\n",
       "2014     0\n",
       "2015     0\n",
       "2016     0\n",
       "dtype: int64"
      ]
     },
     "execution_count": 6,
     "metadata": {},
     "output_type": "execute_result"
    }
   ],
   "source": [
    "sss.isna().sum()"
   ]
  },
  {
   "cell_type": "code",
   "execution_count": 7,
   "id": "beginning-consultancy",
   "metadata": {
    "execution": {
     "iopub.execute_input": "2021-04-19T03:55:25.439061Z",
     "iopub.status.busy": "2021-04-19T03:55:25.438393Z",
     "iopub.status.idle": "2021-04-19T03:55:25.445227Z",
     "shell.execute_reply": "2021-04-19T03:55:25.444484Z"
    },
    "papermill": {
     "duration": 0.056931,
     "end_time": "2021-04-19T03:55:25.445376",
     "exception": false,
     "start_time": "2021-04-19T03:55:25.388445",
     "status": "completed"
    },
    "tags": []
   },
   "outputs": [
    {
     "name": "stdout",
     "output_type": "stream",
     "text": [
      "(51, 20)\n"
     ]
    },
    {
     "data": {
      "text/html": [
       "<div>\n",
       "<style scoped>\n",
       "    .dataframe tbody tr th:only-of-type {\n",
       "        vertical-align: middle;\n",
       "    }\n",
       "\n",
       "    .dataframe tbody tr th {\n",
       "        vertical-align: top;\n",
       "    }\n",
       "\n",
       "    .dataframe thead th {\n",
       "        text-align: right;\n",
       "    }\n",
       "</style>\n",
       "<table border=\"1\" class=\"dataframe\">\n",
       "  <thead>\n",
       "    <tr style=\"text-align: right;\">\n",
       "      <th></th>\n",
       "      <th>1997</th>\n",
       "      <th>1998</th>\n",
       "      <th>1999</th>\n",
       "      <th>2000</th>\n",
       "      <th>2001</th>\n",
       "      <th>2002</th>\n",
       "      <th>2003</th>\n",
       "      <th>2004</th>\n",
       "      <th>2005</th>\n",
       "      <th>2006</th>\n",
       "      <th>2007</th>\n",
       "      <th>2008</th>\n",
       "      <th>2009</th>\n",
       "      <th>2010</th>\n",
       "      <th>2011</th>\n",
       "      <th>2012</th>\n",
       "      <th>2013</th>\n",
       "      <th>2014</th>\n",
       "      <th>2015</th>\n",
       "      <th>2016</th>\n",
       "    </tr>\n",
       "    <tr>\n",
       "      <th>State</th>\n",
       "      <th></th>\n",
       "      <th></th>\n",
       "      <th></th>\n",
       "      <th></th>\n",
       "      <th></th>\n",
       "      <th></th>\n",
       "      <th></th>\n",
       "      <th></th>\n",
       "      <th></th>\n",
       "      <th></th>\n",
       "      <th></th>\n",
       "      <th></th>\n",
       "      <th></th>\n",
       "      <th></th>\n",
       "      <th></th>\n",
       "      <th></th>\n",
       "      <th></th>\n",
       "      <th></th>\n",
       "      <th></th>\n",
       "      <th></th>\n",
       "    </tr>\n",
       "  </thead>\n",
       "  <tbody>\n",
       "    <tr>\n",
       "      <th>Alabama</th>\n",
       "      <td>3271969.0</td>\n",
       "      <td>3504764</td>\n",
       "      <td>3784422</td>\n",
       "      <td>4006894</td>\n",
       "      <td>4140053</td>\n",
       "      <td>4273211</td>\n",
       "      <td>4429789</td>\n",
       "      <td>4586366</td>\n",
       "      <td>4925201</td>\n",
       "      <td>5478034</td>\n",
       "      <td>6104470</td>\n",
       "      <td>6671430</td>\n",
       "      <td>6629154</td>\n",
       "      <td>6573857</td>\n",
       "      <td>6592386</td>\n",
       "      <td>6305709</td>\n",
       "      <td>6461916</td>\n",
       "      <td>6600333</td>\n",
       "      <td>6645129</td>\n",
       "      <td>6589890</td>\n",
       "    </tr>\n",
       "    <tr>\n",
       "      <th>Alaska</th>\n",
       "      <td>1042311.0</td>\n",
       "      <td>1019614</td>\n",
       "      <td>1097282</td>\n",
       "      <td>1133145</td>\n",
       "      <td>1188461</td>\n",
       "      <td>1243776</td>\n",
       "      <td>1287792</td>\n",
       "      <td>1331808</td>\n",
       "      <td>1416771</td>\n",
       "      <td>1509377</td>\n",
       "      <td>1609832</td>\n",
       "      <td>1897947</td>\n",
       "      <td>2077152</td>\n",
       "      <td>2157418</td>\n",
       "      <td>2196942</td>\n",
       "      <td>2105122</td>\n",
       "      <td>2202551</td>\n",
       "      <td>2202685</td>\n",
       "      <td>2332630</td>\n",
       "      <td>2074993</td>\n",
       "    </tr>\n",
       "    <tr>\n",
       "      <th>Arizona</th>\n",
       "      <td>3388165.0</td>\n",
       "      <td>3579363</td>\n",
       "      <td>3849420</td>\n",
       "      <td>4185930</td>\n",
       "      <td>4427481</td>\n",
       "      <td>4669031</td>\n",
       "      <td>5087548</td>\n",
       "      <td>5506064</td>\n",
       "      <td>5872686</td>\n",
       "      <td>6367593</td>\n",
       "      <td>6826134</td>\n",
       "      <td>7367909</td>\n",
       "      <td>7536710</td>\n",
       "      <td>7388074</td>\n",
       "      <td>7096432</td>\n",
       "      <td>6966512</td>\n",
       "      <td>6675200</td>\n",
       "      <td>7065613</td>\n",
       "      <td>7026131</td>\n",
       "      <td>7137123</td>\n",
       "    </tr>\n",
       "    <tr>\n",
       "      <th>Arkansas</th>\n",
       "      <td>1960613.0</td>\n",
       "      <td>2127517</td>\n",
       "      <td>2224967</td>\n",
       "      <td>2324123</td>\n",
       "      <td>2451202</td>\n",
       "      <td>2578281</td>\n",
       "      <td>2742678</td>\n",
       "      <td>2907074</td>\n",
       "      <td>3300288</td>\n",
       "      <td>3533593</td>\n",
       "      <td>3719097</td>\n",
       "      <td>3846131</td>\n",
       "      <td>4189066</td>\n",
       "      <td>4480204</td>\n",
       "      <td>4609186</td>\n",
       "      <td>4220947</td>\n",
       "      <td>4222408</td>\n",
       "      <td>4299286</td>\n",
       "      <td>4355246</td>\n",
       "      <td>4411761</td>\n",
       "    </tr>\n",
       "    <tr>\n",
       "      <th>California</th>\n",
       "      <td>28708364.0</td>\n",
       "      <td>31776920</td>\n",
       "      <td>33739312</td>\n",
       "      <td>36658880</td>\n",
       "      <td>41025508</td>\n",
       "      <td>45392132</td>\n",
       "      <td>47133896</td>\n",
       "      <td>48875660</td>\n",
       "      <td>50693044</td>\n",
       "      <td>53012464</td>\n",
       "      <td>57258252</td>\n",
       "      <td>60096496</td>\n",
       "      <td>59255344</td>\n",
       "      <td>57105136</td>\n",
       "      <td>55999628</td>\n",
       "      <td>57048604</td>\n",
       "      <td>57043384</td>\n",
       "      <td>59043948</td>\n",
       "      <td>64553292</td>\n",
       "      <td>68892072</td>\n",
       "    </tr>\n",
       "  </tbody>\n",
       "</table>\n",
       "</div>"
      ],
      "text/plain": [
       "                  1997      1998      1999      2000      2001      2002  \\\n",
       "State                                                                      \n",
       "Alabama      3271969.0   3504764   3784422   4006894   4140053   4273211   \n",
       "Alaska       1042311.0   1019614   1097282   1133145   1188461   1243776   \n",
       "Arizona      3388165.0   3579363   3849420   4185930   4427481   4669031   \n",
       "Arkansas     1960613.0   2127517   2224967   2324123   2451202   2578281   \n",
       "California  28708364.0  31776920  33739312  36658880  41025508  45392132   \n",
       "\n",
       "                2003      2004      2005      2006      2007      2008  \\\n",
       "State                                                                    \n",
       "Alabama      4429789   4586366   4925201   5478034   6104470   6671430   \n",
       "Alaska       1287792   1331808   1416771   1509377   1609832   1897947   \n",
       "Arizona      5087548   5506064   5872686   6367593   6826134   7367909   \n",
       "Arkansas     2742678   2907074   3300288   3533593   3719097   3846131   \n",
       "California  47133896  48875660  50693044  53012464  57258252  60096496   \n",
       "\n",
       "                2009      2010      2011      2012      2013      2014  \\\n",
       "State                                                                    \n",
       "Alabama      6629154   6573857   6592386   6305709   6461916   6600333   \n",
       "Alaska       2077152   2157418   2196942   2105122   2202551   2202685   \n",
       "Arizona      7536710   7388074   7096432   6966512   6675200   7065613   \n",
       "Arkansas     4189066   4480204   4609186   4220947   4222408   4299286   \n",
       "California  59255344  57105136  55999628  57048604  57043384  59043948   \n",
       "\n",
       "                2015      2016  \n",
       "State                           \n",
       "Alabama      6645129   6589890  \n",
       "Alaska       2332630   2074993  \n",
       "Arizona      7026131   7137123  \n",
       "Arkansas     4355246   4411761  \n",
       "California  64553292  68892072  "
      ]
     },
     "execution_count": 7,
     "metadata": {},
     "output_type": "execute_result"
    }
   ],
   "source": [
    "sss = sss.rename(columns={'state':'State'})\n",
    "sss = sss.set_index('State')\n",
    "print(sss.shape)\n",
    "sss.head()"
   ]
  },
  {
   "cell_type": "markdown",
   "id": "individual-wiring",
   "metadata": {
    "papermill": {
     "duration": 0.031988,
     "end_time": "2021-04-19T03:55:25.508610",
     "exception": false,
     "start_time": "2021-04-19T03:55:25.476622",
     "status": "completed"
    },
    "tags": []
   },
   "source": [
    "Our dataset now consists of 51 States (technically, 50 States plus DC), and the years of 1997 to 2016 are not missing any values."
   ]
  },
  {
   "cell_type": "markdown",
   "id": "curious-tribune",
   "metadata": {
    "papermill": {
     "duration": 0.030761,
     "end_time": "2021-04-19T03:55:25.570367",
     "exception": false,
     "start_time": "2021-04-19T03:55:25.539606",
     "status": "completed"
    },
    "tags": []
   },
   "source": [
    "### **2. Data Analysis**"
   ]
  },
  {
   "cell_type": "markdown",
   "id": "strong-diesel",
   "metadata": {
    "papermill": {
     "duration": 0.03072,
     "end_time": "2021-04-19T03:55:25.632738",
     "exception": false,
     "start_time": "2021-04-19T03:55:25.602018",
     "status": "completed"
    },
    "tags": []
   },
   "source": [
    "### 2.1 - Average Spending by State"
   ]
  },
  {
   "cell_type": "code",
   "execution_count": 8,
   "id": "known-hughes",
   "metadata": {
    "execution": {
     "iopub.execute_input": "2021-04-19T03:55:25.705492Z",
     "iopub.status.busy": "2021-04-19T03:55:25.704667Z",
     "iopub.status.idle": "2021-04-19T03:55:26.510235Z",
     "shell.execute_reply": "2021-04-19T03:55:26.509591Z"
    },
    "papermill": {
     "duration": 0.846289,
     "end_time": "2021-04-19T03:55:26.510390",
     "exception": false,
     "start_time": "2021-04-19T03:55:25.664101",
     "status": "completed"
    },
    "tags": []
   },
   "outputs": [
    {
     "data": {
      "image/png": "[encoded data removed]",
      "text/plain": [
       "<Figure size 1008x432 with 1 Axes>"
      ]
     },
     "metadata": {
      "needs_background": "light"
     },
     "output_type": "display_data"
    }
   ],
   "source": [
    "sssa = sss.copy()\n",
    "sssa['Avg'] = sssa.mean(axis=1)\n",
    "sssa = sssa.sort_values(['Avg'], ascending=True)\n",
    "\n",
    "fig, ax = plt.subplots(figsize=[14,6])\n",
    "x=sssa.index\n",
    "y1=sssa.Avg\n",
    "y2=0\n",
    "\n",
    "ax.plot(sssa.Avg, color='maroon')\n",
    "ax.fill_between(x, y1, y2, where=(y2 < y1), facecolor='gray', alpha=0.2)\n",
    "\n",
    "ax.set_title('Average Spending By State', fontsize = 18)\n",
    "plt.xticks(rotation=90)\n",
    "ax.set_ylabel('Average Spending, in 10s of Millions')\n",
    "ax.spines[['right', 'top']].set_visible(False)\n",
    "    \n",
    "plt.show()"
   ]
  },
  {
   "cell_type": "markdown",
   "id": "decreased-laugh",
   "metadata": {
    "papermill": {
     "duration": 0.03266,
     "end_time": "2021-04-19T03:55:26.576611",
     "exception": false,
     "start_time": "2021-04-19T03:55:26.543951",
     "status": "completed"
    },
    "tags": []
   },
   "source": [
    "The average spending between the bottom and top state is quite significant, with a high spending States exceeding the visual averages more than low spending States. "
   ]
  },
  {
   "cell_type": "markdown",
   "id": "resistant-hypothetical",
   "metadata": {
    "papermill": {
     "duration": 0.032481,
     "end_time": "2021-04-19T03:55:26.641880",
     "exception": false,
     "start_time": "2021-04-19T03:55:26.609399",
     "status": "completed"
    },
    "tags": []
   },
   "source": [
    "### 2.2 - Average State Spending by Year"
   ]
  },
  {
   "cell_type": "code",
   "execution_count": 9,
   "id": "romance-factory",
   "metadata": {
    "execution": {
     "iopub.execute_input": "2021-04-19T03:55:26.738423Z",
     "iopub.status.busy": "2021-04-19T03:55:26.736205Z",
     "iopub.status.idle": "2021-04-19T03:55:27.774648Z",
     "shell.execute_reply": "2021-04-19T03:55:27.775218Z"
    },
    "papermill": {
     "duration": 1.100744,
     "end_time": "2021-04-19T03:55:27.775398",
     "exception": false,
     "start_time": "2021-04-19T03:55:26.674654",
     "status": "completed"
    },
    "tags": []
   },
   "outputs": [
    {
     "data": {
      "image/png": "[encoded data removed]",
      "text/plain": [
       "<Figure size 1008x1080 with 3 Axes>"
      ]
     },
     "metadata": {
      "needs_background": "light"
     },
     "output_type": "display_data"
    }
   ],
   "source": [
    "fig, axs = plt.subplots(nrows=3, ncols=1, figsize=(14,15))\n",
    "\n",
    "# Violin\n",
    "violin_parts = axs[0].violinplot(sss)\n",
    "axs[0].set_title('Spending Distribution by Year',fontsize=18)\n",
    "\n",
    "for partname in ('cbars','cmins','cmaxes'):\n",
    "    vp = violin_parts[partname]\n",
    "    vp.set_edgecolor('black')\n",
    "    vp.set_linewidth(1)\n",
    "    \n",
    "for pc in violin_parts['bodies']:\n",
    "    pc.set_facecolor('red')\n",
    "    pc.set_edgecolor('black')\n",
    "\n",
    "# Box\n",
    "box_parts = axs[1].boxplot(sss)\n",
    "axs[1].set_title('Spending Distribution by Year, Including Outliers', fontsize=18)\n",
    "\n",
    "for box in box_parts['boxes']:\n",
    "    box.set(color='maroon', linewidth=1)\n",
    "\n",
    "# Box w/o outliers\n",
    "box_parts = axs[2].boxplot(sss, showfliers = False)\n",
    "axs[2].set_title('Spending Distribution by Year, Without Outliers', fontsize=18)\n",
    "\n",
    "for box in box_parts['boxes']:\n",
    "    box.set(color='maroon', linewidth=1)\n",
    "    \n",
    "for ax in axs:\n",
    "    ax.yaxis.grid(False)\n",
    "    ax.set_ylabel('Spending in 10s of Millions')\n",
    "    ax.spines[['right', 'top']].set_visible(False)\n",
    "    \n",
    "plt.setp(axs, xticks=[y + 1 for y in range(len(sss.columns))],\n",
    "         xticklabels=sss.columns)\n",
    "plt.subplots_adjust(hspace=.4)\n",
    "\n",
    "plt.show()"
   ]
  },
  {
   "cell_type": "markdown",
   "id": "synthetic-democrat",
   "metadata": {
    "papermill": {
     "duration": 0.035466,
     "end_time": "2021-04-19T03:55:27.847633",
     "exception": false,
     "start_time": "2021-04-19T03:55:27.812167",
     "status": "completed"
    },
    "tags": []
   },
   "source": [
    "**Violin Plot:**\n",
    "* The overall trend in spending has gone up, with a peak in 2008, followed by a downwards trend during the financial crisis and recession, before it grew to its highest point in 2016. The lower end of State spending changes little.\n",
    "\n",
    "\n",
    "**Box Plot:**\n",
    "* The mean of State spending has increased slightly. Including outliers, the maximum amount a single State spends has more than doubled to nearly $70 million; removing outliers, the overall trend still shows an increase in spending by some States, as well as an upper limit that has more than doubled over the period included in the data."
   ]
  },
  {
   "cell_type": "markdown",
   "id": "blessed-hamilton",
   "metadata": {
    "papermill": {
     "duration": 0.035646,
     "end_time": "2021-04-19T03:55:27.919019",
     "exception": false,
     "start_time": "2021-04-19T03:55:27.883373",
     "status": "completed"
    },
    "tags": []
   },
   "source": [
    "### 2.3 - Total Spending by Year"
   ]
  },
  {
   "cell_type": "code",
   "execution_count": 10,
   "id": "changed-german",
   "metadata": {
    "execution": {
     "iopub.execute_input": "2021-04-19T03:55:28.015553Z",
     "iopub.status.busy": "2021-04-19T03:55:28.013405Z",
     "iopub.status.idle": "2021-04-19T03:55:28.222438Z",
     "shell.execute_reply": "2021-04-19T03:55:28.221875Z"
    },
    "papermill": {
     "duration": 0.267592,
     "end_time": "2021-04-19T03:55:28.222578",
     "exception": false,
     "start_time": "2021-04-19T03:55:27.954986",
     "status": "completed"
    },
    "tags": []
   },
   "outputs": [
    {
     "data": {
      "image/png": "[encoded data removed]",
      "text/plain": [
       "<Figure size 1008x432 with 1 Axes>"
      ]
     },
     "metadata": {
      "needs_background": "light"
     },
     "output_type": "display_data"
    }
   ],
   "source": [
    "fig, ax = plt.subplots(figsize = [14,6])\n",
    "\n",
    "x=sss.columns\n",
    "y1=sss.sum(axis=0)\n",
    "y2=0\n",
    "ax.plot(sss.sum(axis=0), color='maroon')\n",
    "ax.fill_between(x, y1, y2, where=(y2 < y1), facecolor='gray', alpha=0.2)\n",
    "\n",
    "\n",
    "ax.set_title('Total Spending Per Year', fontsize = 18)\n",
    "ax.set_xlabel('Year')\n",
    "ax.set_ylabel('Total Spending, in 100s of Millions')\n",
    "ax.spines[['right', 'top']].set_visible(False)\n",
    "\n",
    "plt.show()"
   ]
  },
  {
   "cell_type": "markdown",
   "id": "convinced-peeing",
   "metadata": {
    "papermill": {
     "duration": 0.036241,
     "end_time": "2021-04-19T03:55:28.295995",
     "exception": false,
     "start_time": "2021-04-19T03:55:28.259754",
     "status": "completed"
    },
    "tags": []
   },
   "source": [
    "Complementing the violin and box plots above, the decline in State school spending declined following the 2008 - 2009 financial crisis, hitting its bottom during the recession (though \"bottom\" is a relative / local term), before again increasing.\n",
    "\n",
    "The total spending graph minimizes the amount of variables presented, allowing a clearer picture of spending. "
   ]
  },
  {
   "cell_type": "markdown",
   "id": "transparent-shareware",
   "metadata": {
    "papermill": {
     "duration": 0.036208,
     "end_time": "2021-04-19T03:55:28.369298",
     "exception": false,
     "start_time": "2021-04-19T03:55:28.333090",
     "status": "completed"
    },
    "tags": []
   },
   "source": [
    "### 2.4 - Top 5 States by Spending"
   ]
  },
  {
   "cell_type": "code",
   "execution_count": 11,
   "id": "alpine-belly",
   "metadata": {
    "execution": {
     "iopub.execute_input": "2021-04-19T03:55:28.480931Z",
     "iopub.status.busy": "2021-04-19T03:55:28.480125Z",
     "iopub.status.idle": "2021-04-19T03:55:28.601408Z",
     "shell.execute_reply": "2021-04-19T03:55:28.600657Z"
    },
    "papermill": {
     "duration": 0.195778,
     "end_time": "2021-04-19T03:55:28.601554",
     "exception": false,
     "start_time": "2021-04-19T03:55:28.405776",
     "status": "completed"
    },
    "tags": []
   },
   "outputs": [
    {
     "data": {
      "image/png": "[encoded data removed]",
      "text/plain": [
       "<Figure size 1008x432 with 1 Axes>"
      ]
     },
     "metadata": {
      "needs_background": "light"
     },
     "output_type": "display_data"
    }
   ],
   "source": [
    "top5 = sssa.sort_values(by='Avg', ascending = False).head()\n",
    "\n",
    "fig, ax = plt.subplots(figsize = [14,6])\n",
    "\n",
    "ax.barh(top5.index, top5.Avg, align='center', color=['maroon','gray','gray','gray','gray'], alpha=.8)\n",
    "\n",
    "ax.set_xlabel('Amount Spent, in 10s of Millions')\n",
    "ax.set_title('Average Spending by Top 5 States', fontsize = 18)\n",
    "ax.spines[['right', 'top']].set_visible(False)\n",
    "\n",
    "plt.show()"
   ]
  },
  {
   "cell_type": "markdown",
   "id": "thorough-arnold",
   "metadata": {
    "papermill": {
     "duration": 0.037818,
     "end_time": "2021-04-19T03:55:28.677245",
     "exception": false,
     "start_time": "2021-04-19T03:55:28.639427",
     "status": "completed"
    },
    "tags": []
   },
   "source": [
    "**California**\n",
    "\n",
    "    California serves as the largest outlier of the data set, accounting for more spending in position 1 than positions 4 and 5 combined, and roughly the same amount as positions 3 and 4.\n",
    "    \n",
    "**New York**\n",
    "\n",
    "    Accounting for more than 80% of California's spending, New York also serves as an outlier; its spending, like California's, accounts for more than position 4 and 5's spending combine."
   ]
  },
  {
   "cell_type": "markdown",
   "id": "flush-chest",
   "metadata": {
    "papermill": {
     "duration": 0.037486,
     "end_time": "2021-04-19T03:55:28.752335",
     "exception": false,
     "start_time": "2021-04-19T03:55:28.714849",
     "status": "completed"
    },
    "tags": []
   },
   "source": [
    "### 2.5 - Bottom 5 States by Spending"
   ]
  },
  {
   "cell_type": "code",
   "execution_count": 12,
   "id": "cooked-ceiling",
   "metadata": {
    "execution": {
     "iopub.execute_input": "2021-04-19T03:55:28.967083Z",
     "iopub.status.busy": "2021-04-19T03:55:28.965302Z",
     "iopub.status.idle": "2021-04-19T03:55:29.100219Z",
     "shell.execute_reply": "2021-04-19T03:55:29.099460Z"
    },
    "papermill": {
     "duration": 0.310229,
     "end_time": "2021-04-19T03:55:29.100377",
     "exception": false,
     "start_time": "2021-04-19T03:55:28.790148",
     "status": "completed"
    },
    "tags": []
   },
   "outputs": [
    {
     "data": {
      "image/png": "[encoded data removed]",
      "text/plain": [
       "<Figure size 1008x432 with 1 Axes>"
      ]
     },
     "metadata": {
      "needs_background": "light"
     },
     "output_type": "display_data"
    }
   ],
   "source": [
    "bot5 = sssa.sort_values(by='Avg', ascending = True).head()\n",
    "\n",
    "fig, ax = plt.subplots(figsize = [14,6])\n",
    "\n",
    "ax.barh(bot5.index, bot5.Avg, align='center', color=['maroon','gray','gray','gray','gray'], alpha=.8)\n",
    "\n",
    "ax.set_xlabel('Amount Spent, in Millions')\n",
    "ax.set_title('Average Spending by Bottom 5 States', fontsize = 18)\n",
    "ax.spines[['right', 'top']].set_visible(False)\n",
    "\n",
    "plt.show()"
   ]
  },
  {
   "cell_type": "markdown",
   "id": "italian-pleasure",
   "metadata": {
    "papermill": {
     "duration": 0.040873,
     "end_time": "2021-04-19T03:55:29.181103",
     "exception": false,
     "start_time": "2021-04-19T03:55:29.140230",
     "status": "completed"
    },
    "tags": []
   },
   "source": [
    "**The Dakotas**\n",
    "\n",
    "    Both of the Dakotas represent the States which spend the least on Education, but the range of spending in the bottom 5 States is significantly less than the range shown in the top 5. Each of the Dakotas spend less than $1,000,000, and are the only two states in the data to do so."
   ]
  },
  {
   "cell_type": "markdown",
   "id": "editorial-genesis",
   "metadata": {
    "papermill": {
     "duration": 0.039102,
     "end_time": "2021-04-19T03:55:29.259874",
     "exception": false,
     "start_time": "2021-04-19T03:55:29.220772",
     "status": "completed"
    },
    "tags": []
   },
   "source": [
    "### 2.6 - Top 3 States vs Bottom 3 States"
   ]
  },
  {
   "cell_type": "code",
   "execution_count": 13,
   "id": "oriental-component",
   "metadata": {
    "execution": {
     "iopub.execute_input": "2021-04-19T03:55:29.383289Z",
     "iopub.status.busy": "2021-04-19T03:55:29.372026Z",
     "iopub.status.idle": "2021-04-19T03:55:29.630873Z",
     "shell.execute_reply": "2021-04-19T03:55:29.631396Z"
    },
    "papermill": {
     "duration": 0.332161,
     "end_time": "2021-04-19T03:55:29.631576",
     "exception": false,
     "start_time": "2021-04-19T03:55:29.299415",
     "status": "completed"
    },
    "tags": []
   },
   "outputs": [
    {
     "data": {
      "image/png": "[encoded data removed]",
      "text/plain": [
       "<Figure size 1008x432 with 1 Axes>"
      ]
     },
     "metadata": {
      "needs_background": "light"
     },
     "output_type": "display_data"
    }
   ],
   "source": [
    "top3 = top5.head(3)\n",
    "bot3 = bot5.head(3)\n",
    "topbot = pd.concat([top3, bot3])\n",
    "topbot = topbot.sort_values(by='Avg', ascending=False)\n",
    "tby = topbot.drop(columns=['Avg'])\n",
    "fig, ax = plt.subplots(figsize=[14,6])\n",
    "\n",
    "ax.stackplot(tby.columns, tby,\n",
    "                 colors=['dimgray', 'gray', 'lightgray', 'purple', 'gold', 'maroon'])\n",
    "\n",
    "ax.legend(tby.index, loc='upper left')\n",
    "ax.set_ylabel('Spending in 100s of Millions')\n",
    "ax.set_title('Cumulative Spending by Year, Top and Bottom States', fontsize=18)\n",
    "ax.spines[['right', 'top']].set_visible(False)\n",
    "\n",
    "plt.show()    "
   ]
  },
  {
   "cell_type": "markdown",
   "id": "rising-constraint",
   "metadata": {
    "papermill": {
     "duration": 0.040337,
     "end_time": "2021-04-19T03:55:29.712784",
     "exception": false,
     "start_time": "2021-04-19T03:55:29.672447",
     "status": "completed"
    },
    "tags": []
   },
   "source": [
    "The value of this graph is in exposing the scale of spending differences by States - any of the top 3 States engulfs the bottom 3 combined. "
   ]
  },
  {
   "cell_type": "markdown",
   "id": "occupied-victory",
   "metadata": {
    "papermill": {
     "duration": 0.040245,
     "end_time": "2021-04-19T03:55:29.793562",
     "exception": false,
     "start_time": "2021-04-19T03:55:29.753317",
     "status": "completed"
    },
    "tags": []
   },
   "source": [
    "### **3. Conclusions**"
   ]
  },
  {
   "cell_type": "markdown",
   "id": "biblical-miller",
   "metadata": {
    "papermill": {
     "duration": 0.040315,
     "end_time": "2021-04-19T03:55:29.875129",
     "exception": false,
     "start_time": "2021-04-19T03:55:29.834814",
     "status": "completed"
    },
    "tags": []
   },
   "source": [
    "### 3.1 - Conclusions from Data"
   ]
  },
  {
   "cell_type": "markdown",
   "id": "confused-canadian",
   "metadata": {
    "papermill": {
     "duration": 0.040146,
     "end_time": "2021-04-19T03:55:29.955897",
     "exception": false,
     "start_time": "2021-04-19T03:55:29.915751",
     "status": "completed"
    },
    "tags": []
   },
   "source": [
    "#### General Trend\n",
    "\n",
    "    Over the time period contained in the data, the amount of money spent by States on education has increased, year over year, with the exception of the years which followed the 2008-2009 financial crisis and recession that followed."
   ]
  },
  {
   "cell_type": "markdown",
   "id": "yellow-bargain",
   "metadata": {
    "papermill": {
     "duration": 0.041694,
     "end_time": "2021-04-19T03:55:30.039591",
     "exception": false,
     "start_time": "2021-04-19T03:55:29.997897",
     "status": "completed"
    },
    "tags": []
   },
   "source": [
    "#### Potential Outliers\n",
    "\n",
    "    California and New York spend such a large sum on their schools, that they may skew the aggregate data. The States which spend the most on education are further from the average spending than those which spend the least. On average, New York spends over 40 times what North Dakota (the lowest spending State) does, and California spends over 50 times what North Dakota does."
   ]
  },
  {
   "cell_type": "markdown",
   "id": "civil-stability",
   "metadata": {
    "papermill": {
     "duration": 0.040305,
     "end_time": "2021-04-19T03:55:30.120877",
     "exception": false,
     "start_time": "2021-04-19T03:55:30.080572",
     "status": "completed"
    },
    "tags": []
   },
   "source": [
    "#### Predictions\n",
    "\n",
    "    Due to numerous confounders, any predictions made from this data should be met with skepticism. Potential confounding variables include: the Covid pandemic, the 2016 election, tax code changes, education reforms, and the 2020 election."
   ]
  },
  {
   "cell_type": "markdown",
   "id": "recent-guitar",
   "metadata": {
    "papermill": {
     "duration": 0.040369,
     "end_time": "2021-04-19T03:55:30.201774",
     "exception": false,
     "start_time": "2021-04-19T03:55:30.161405",
     "status": "completed"
    },
    "tags": []
   },
   "source": [
    "### 3.2 - Further Improvements / Data to Explore"
   ]
  },
  {
   "cell_type": "markdown",
   "id": "cardiac-weekly",
   "metadata": {
    "papermill": {
     "duration": 0.040245,
     "end_time": "2021-04-19T03:55:30.282614",
     "exception": false,
     "start_time": "2021-04-19T03:55:30.242369",
     "status": "completed"
    },
    "tags": []
   },
   "source": [
    "#### State Populations\n",
    "    Although the amount each State spends on schools is interesting, it does little to say how much is spent per child; without knowing the populations of each state, these numbers lack significant context."
   ]
  },
  {
   "cell_type": "markdown",
   "id": "swedish-momentum",
   "metadata": {
    "papermill": {
     "duration": 0.040498,
     "end_time": "2021-04-19T03:55:30.363513",
     "exception": false,
     "start_time": "2021-04-19T03:55:30.323015",
     "status": "completed"
    },
    "tags": []
   },
   "source": [
    "#### Test Scores\n",
    "    Does an increase in spending correlate at all with increased test scores? Knowing the State population would be necessary in order to establish a per capita spending on student, allowing average spending to be compared to average test scores."
   ]
  },
  {
   "cell_type": "markdown",
   "id": "metallic-lemon",
   "metadata": {
    "papermill": {
     "duration": 0.040031,
     "end_time": "2021-04-19T03:55:30.444065",
     "exception": false,
     "start_time": "2021-04-19T03:55:30.404034",
     "status": "completed"
    },
    "tags": []
   },
   "source": [
    "#### State Economy and Taxes\n",
    "\n",
    "    What is the per capita income of individuals in each State? What does the economy of each State look like, and what job opportunities are available to incentivize more or less spending on Education? How does each State raise money for its school spending?"
   ]
  },
  {
   "cell_type": "markdown",
   "id": "quarterly-visit",
   "metadata": {
    "papermill": {
     "duration": 0.040307,
     "end_time": "2021-04-19T03:55:30.528489",
     "exception": false,
     "start_time": "2021-04-19T03:55:30.488182",
     "status": "completed"
    },
    "tags": []
   },
   "source": [
    "#### Outcomes for Students\n",
    "\n",
    "    What is the average income for a student that went to school in each State? Or, perhaps more importantly, what is their quality of life? Did the spending on education help to meaningfully improve the lives of students?"
   ]
  },
  {
   "cell_type": "markdown",
   "id": "electric-lucas",
   "metadata": {
    "papermill": {
     "duration": 0.040196,
     "end_time": "2021-04-19T03:55:30.609179",
     "exception": false,
     "start_time": "2021-04-19T03:55:30.568983",
     "status": "completed"
    },
    "tags": []
   },
   "source": [
    "#### Crime\n",
    "\n",
    "    Do crime and education spending have any correlation? Based on spending per student, what is the per capita rate of crime? "
   ]
  },
  {
   "cell_type": "markdown",
   "id": "colonial-evaluation",
   "metadata": {
    "papermill": {
     "duration": 0.040244,
     "end_time": "2021-04-19T03:55:30.689784",
     "exception": false,
     "start_time": "2021-04-19T03:55:30.649540",
     "status": "completed"
    },
    "tags": []
   },
   "source": [
    "#### Updated Data\n",
    "\n",
    "    Has spending continued to increase in years following this data, or has it decreased? Furthermore, with the decline in spending following the \"Great Recession,\" has a similar decline happened with the Covid recession?"
   ]
  },
  {
   "cell_type": "markdown",
   "id": "integral-audit",
   "metadata": {
    "papermill": {
     "duration": 0.040281,
     "end_time": "2021-04-19T03:55:30.770491",
     "exception": false,
     "start_time": "2021-04-19T03:55:30.730210",
     "status": "completed"
    },
    "tags": []
   },
   "source": [
    "### THANK YOU!\n",
    "\n",
    "    I enjoy feedback - if you found something interesting, found an error, or have any comments, please let me know."
   ]
  },
  {
   "cell_type": "code",
   "execution_count": null,
   "id": "nuclear-joyce",
   "metadata": {
    "papermill": {
     "duration": 0.040229,
     "end_time": "2021-04-19T03:55:30.851192",
     "exception": false,
     "start_time": "2021-04-19T03:55:30.810963",
     "status": "completed"
    },
    "tags": []
   },
   "outputs": [],
   "source": []
  }
 ],
 "metadata": {
  "kernelspec": {
   "display_name": "Python 3 (ipykernel)",
   "language": "python",
   "name": "python3"
  },
  "language_info": {
   "codemirror_mode": {
    "name": "ipython",
    "version": 3
   },
   "file_extension": ".py",
   "mimetype": "text/x-python",
   "name": "python",
   "nbconvert_exporter": "python",
   "pygments_lexer": "ipython3",
   "version": "3.11.3"
  },
  "papermill": {
   "default_parameters": {},
   "duration": 14.532336,
   "end_time": "2021-04-19T03:55:31.601333",
   "environment_variables": {},
   "exception": null,
   "input_path": "__notebook__.ipynb",
   "output_path": "__notebook__.ipynb",
   "parameters": {},
   "start_time": "2021-04-19T03:55:17.068997",
   "version": "2.3.2"
  }
 },
 "nbformat": 4,
 "nbformat_minor": 5
}
